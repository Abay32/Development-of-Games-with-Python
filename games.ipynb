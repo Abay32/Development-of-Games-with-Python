{
 "cells": [
  {
   "cell_type": "code",
   "execution_count": 17,
   "id": "opposed-tyler",
   "metadata": {},
   "outputs": [],
   "source": [
    "# Python projects \n",
    "\n",
    "# Guessing game \n",
    "import random\n",
    "def guess(x):\n",
    "    rand_no = random.randint(1,x)\n",
    "    gues = 0\n",
    "    while rand_no != gues:\n",
    "        gues = int(input('Guess anather one'))\n",
    "        if gues > rand_no:\n",
    "            print('Guess lower value: ')\n",
    "        elif gues < rand_no:\n",
    "            print('Guess higher value: ')\n",
    "            \n",
    "    print('You won the game')\n",
    "\n",
    "# Write a function in which the computer gues the secret number\n",
    "\n",
    "    "
   ]
  },
  {
   "cell_type": "code",
   "execution_count": 18,
   "id": "upset-pricing",
   "metadata": {},
   "outputs": [],
   "source": [
    "#guess(10)"
   ]
  },
  {
   "cell_type": "code",
   "execution_count": 24,
   "id": "relevant-stopping",
   "metadata": {},
   "outputs": [],
   "source": [
    "\n",
    "def guess_inverse(x):\n",
    "    high = x\n",
    "    low = 1\n",
    "    feedback = ''\n",
    "    \n",
    "    guess = random.randint(low, high)\n",
    "    while feedback != 'c':\n",
    "        if low != high:\n",
    "            guess = random.randint(low, high)\n",
    "        else:\n",
    "            guess = low\n",
    "            \n",
    "        feedback = input(f' Is {guess} too high (H), to low (l)  or correct (c)')\n",
    "        if feedback == 'h':\n",
    "            high = guess-1\n",
    "        elif feedback == 'l':\n",
    "            low += guess \n",
    "    print(f'Yes! The computer guessed your number, {guess}, correctly')\n",
    "            \n",
    "                \n",
    "        "
   ]
  },
  {
   "cell_type": "code",
   "execution_count": 26,
   "id": "documentary-redhead",
   "metadata": {},
   "outputs": [
    {
     "name": "stdout",
     "output_type": "stream",
     "text": [
      " Is 7 too high (H), to low (l)  or correct (c)h\n",
      " Is 1 too high (H), to low (l)  or correct (c)1\n",
      " Is 3 too high (H), to low (l)  or correct (c)l\n",
      " Is 5 too high (H), to low (l)  or correct (c)h\n",
      " Is 4 too high (H), to low (l)  or correct (c)c\n",
      "Yes! The computer guessed your number, 4, correctly\n"
     ]
    }
   ],
   "source": [
    "guess_inverse(10)"
   ]
  },
  {
   "cell_type": "code",
   "execution_count": 19,
   "id": "under-joyce",
   "metadata": {},
   "outputs": [],
   "source": [
    "import random\n",
    "def play():\n",
    "    \n",
    "    user = input('Is your choice rock, r, scissors, s, paper, p: ')\n",
    "    computer = random.choice(['r', 'p', 's'])\n",
    "    print(computer)\n",
    "    \n",
    "    if computer == user:\n",
    "        print('It\\'s a tie')\n",
    "    is_win = is_big_win(user, computer)\n",
    "    if is_win:\n",
    "        print('Congratulations you won the computetion')\n",
    "        \n",
    "    print('Oops! you lost the game')\n",
    "    \n",
    "def is_big_win(player, opponent):\n",
    "    if (player=='p' and opponent=='r') or (player == 'r' and opponent=='s') or (player == 's' and opponent == 'p'):\n",
    "        return True"
   ]
  },
  {
   "cell_type": "code",
   "execution_count": 21,
   "id": "modular-companion",
   "metadata": {},
   "outputs": [
    {
     "name": "stdout",
     "output_type": "stream",
     "text": [
      "Is your choice rock, r, scissors, s, paper, p: k-\n",
      "s\n",
      "Oops! you lost the game\n"
     ]
    }
   ],
   "source": [
    "play()"
   ]
  },
  {
   "cell_type": "code",
   "execution_count": 12,
   "id": "similar-enlargement",
   "metadata": {},
   "outputs": [],
   "source": [
    "# Hang man project \n",
    "import string\n",
    "\n",
    "from word import word\n",
    "import random\n",
    "\n",
    "def get_valid_word(word):\n",
    "    word_ = random.choice(word)\n",
    "    \n",
    "    # Check if there is special character in the list and ride of it \n",
    "    while '-' in word_ or ' ' in word_:\n",
    "        word_ = random.choice(word)\n",
    "    return word_\n",
    "def hangman():\n",
    "    word_ = get_valid_word(word)\n",
    "    word_letters = set(word_) # Unique letters in the word\n",
    "    alphabet = set(string.ascii_uppercase)\n",
    "    used_letters = set() # what the user has guessed    \n",
    "    \n",
    "    # get the user input \n",
    "    lives = 6\n",
    "    while len(word_letters) > 0 and lives > 0:\n",
    "        # used letters\n",
    "        print('You have', lives, 'lives used these letters ', ' '.join(used_letters))\n",
    "        # what current word is \n",
    "        word_list = [letter if letter in used_letters else '-' for letter in word_]\n",
    "        print('Current word ', ' '.join(word_list))\n",
    "            \n",
    "        \n",
    "        user_letters = input('Guess a letter: ').upper()\n",
    "        if user_letters in alphabet - used_letters:\n",
    "            used_letters.add(user_letters)\n",
    "            if used_letters in word_letters:\n",
    "                word_letters.remove(user_letter)\n",
    "            else:\n",
    "                lives = lives - 1\n",
    "                print('Letter is not in word')\n",
    "            \n",
    "        elif user_letters in used_letters:\n",
    "            print('You have already used that charactor. Please try again: ')\n",
    "            \n",
    "        else:\n",
    "            print('Invalid character ')\n",
    "    if lives == 0:\n",
    "        print('Sorry time out: your move ends. The word was : ', word_)\n",
    "    else:\n",
    "            \n",
    "        print('You guessed the word', word_, '!!')\n",
    " \n",
    "    \n",
    "#user_input  = input()\n"
   ]
  },
  {
   "cell_type": "code",
   "execution_count": 13,
   "id": "pregnant-columbia",
   "metadata": {},
   "outputs": [
    {
     "name": "stdout",
     "output_type": "stream",
     "text": [
      "You have 6 lives used these letters  \n",
      "Current word  - - -\n",
      "Guess a letter: g\n",
      "Letter is not in word\n",
      "You have 5 lives used these letters  G\n",
      "Current word  - - -\n",
      "Guess a letter: h\n",
      "Letter is not in word\n",
      "You have 4 lives used these letters  G H\n",
      "Current word  - - -\n",
      "Guess a letter: k\n",
      "Letter is not in word\n",
      "You have 3 lives used these letters  G K H\n",
      "Current word  - - -\n",
      "Guess a letter: l\n",
      "Letter is not in word\n",
      "You have 2 lives used these letters  G L K H\n",
      "Current word  - - -\n",
      "Guess a letter: i\n",
      "Letter is not in word\n",
      "You have 1 lives used these letters  L K I H G\n",
      "Current word  - - -\n",
      "Guess a letter: s\n",
      "Letter is not in word\n",
      "Sorry time out: your move ends. The word was :  old\n"
     ]
    }
   ],
   "source": [
    "hangman()"
   ]
  },
  {
   "cell_type": "code",
   "execution_count": 4,
   "id": "joint-allergy",
   "metadata": {},
   "outputs": [
    {
     "name": "stdout",
     "output_type": "stream",
     "text": [
      "Abag ab\n"
     ]
    }
   ],
   "source": [
    "# tic-tac-toe game \n",
    "\n",
    "import math\n",
    "\n",
    "class Player:\n",
    "    def __init__(self, letter):\n",
    "        self.letter = letter\n",
    "    # all playes have to get their next move \n",
    "    \n",
    "    def get_move(self, game):\n",
    "        pass\n",
    "    \n",
    "class RandonComputerPlayer(Player):\n",
    "    def __init__(self, letter):\n",
    "        super().__init__(letter)\n",
    "        \n",
    "    def get_move(self, game):\n",
    "        square = random.choice(game.available_moves())\n",
    "        return square\n",
    "    \n",
    "class HumanPlayer(Player):\n",
    "    def __init__(self, letter):\n",
    "        supper().__init__(letter)\n",
    "        \n",
    "        def get_move(game):\n",
    "            valid_square = False\n",
    "            val = None\n",
    "            \n",
    "            while not valid_square:\n",
    "                square = input(self.letter + '\\'s turn. Input move (0-9): ')\n",
    "                try:\n",
    "                    val = int(square)\n",
    "                    if val not in game.available_moves():\n",
    "                        \n",
    "                    \n",
    "        \n"
   ]
  },
  {
   "cell_type": "code",
   "execution_count": 2,
   "id": "aggregate-madness",
   "metadata": {},
   "outputs": [
    {
     "data": {
      "text/plain": [
       "2"
      ]
     },
     "execution_count": 2,
     "metadata": {},
     "output_type": "execute_result"
    }
   ],
   "source": [
    "57%5"
   ]
  },
  {
   "cell_type": "code",
   "execution_count": 7,
   "id": "deadly-arbitration",
   "metadata": {},
   "outputs": [
    {
     "data": {
      "text/plain": [
       "[1, 1, 2, 3, 3, 4]"
      ]
     },
     "execution_count": 7,
     "metadata": {},
     "output_type": "execute_result"
    }
   ],
   "source": [
    "x = [1, 3, 4, 2, 3, 1]\n",
    "\n",
    "\n",
    "\n",
    "z=sorted(x)\n",
    "z"
   ]
  },
  {
   "cell_type": "code",
   "execution_count": 13,
   "id": "stopped-jewel",
   "metadata": {},
   "outputs": [],
   "source": [
    "z.remove(1)\n",
    "z.remove(3)"
   ]
  },
  {
   "cell_type": "code",
   "execution_count": 9,
   "id": "nonprofit-blogger",
   "metadata": {},
   "outputs": [
    {
     "data": {
      "text/plain": [
       "[1, 2, 3, 4]"
      ]
     },
     "execution_count": 9,
     "metadata": {},
     "output_type": "execute_result"
    }
   ],
   "source": [
    "z"
   ]
  },
  {
   "cell_type": "code",
   "execution_count": 17,
   "id": "bound-immune",
   "metadata": {},
   "outputs": [
    {
     "name": "stdout",
     "output_type": "stream",
     "text": [
      "<itertools.combinations object at 0x7f8edc0e7d18>\n"
     ]
    }
   ],
   "source": [
    "\n",
    "from itertools import combinations \n",
    "print(combinations(z, 2))\n"
   ]
  },
  {
   "cell_type": "code",
   "execution_count": 30,
   "id": "alpine-blogger",
   "metadata": {},
   "outputs": [
    {
     "data": {
      "text/plain": [
       "5"
      ]
     },
     "execution_count": 30,
     "metadata": {},
     "output_type": "execute_result"
    }
   ],
   "source": [
    "# Maximum numbers of pairs \n",
    "\n",
    "stuff = [2, 3, 2, 4, 5, 6]\n",
    "com = []\n",
    "#for L in range(0, len(stuff)+1):\n",
    "\n",
    "    \n",
    "    \n",
    "sum([1 for subset in itertools.combinations(stuff, 2) if subset[1]-subset[0] >= 2 ])\n",
    "         "
   ]
  },
  {
   "cell_type": "code",
   "execution_count": 34,
   "id": "aboriginal-commerce",
   "metadata": {},
   "outputs": [
    {
     "data": {
      "text/plain": [
       "2"
      ]
     },
     "execution_count": 34,
     "metadata": {},
     "output_type": "execute_result"
    }
   ],
   "source": [
    "ar =[10, 20, 20, 10, 10, 30, 50, 10, 20]\n",
    "ar.count(10)//2"
   ]
  },
  {
   "cell_type": "code",
   "execution_count": 36,
   "id": "expensive-today",
   "metadata": {},
   "outputs": [
    {
     "data": {
      "text/plain": [
       "list"
      ]
     },
     "execution_count": 36,
     "metadata": {},
     "output_type": "execute_result"
    }
   ],
   "source": [
    "a = [1,3,4,5]\n",
    "type(a)"
   ]
  },
  {
   "cell_type": "code",
   "execution_count": 42,
   "id": "adopted-proof",
   "metadata": {},
   "outputs": [
    {
     "data": {
      "text/plain": [
       "<generator object <genexpr> at 0x7f8ee4475308>"
      ]
     },
     "execution_count": 42,
     "metadata": {},
     "output_type": "execute_result"
    }
   ],
   "source": [
    "s = (str(i) for i in a)\n",
    "s"
   ]
  },
  {
   "cell_type": "code",
   "execution_count": 43,
   "id": "unlike-candidate",
   "metadata": {},
   "outputs": [
    {
     "data": {
      "text/plain": [
       "generator"
      ]
     },
     "execution_count": 43,
     "metadata": {},
     "output_type": "execute_result"
    }
   ],
   "source": [
    "type(s)"
   ]
  },
  {
   "cell_type": "code",
   "execution_count": 44,
   "id": "cross-legislature",
   "metadata": {},
   "outputs": [
    {
     "data": {
      "text/plain": [
       "0"
      ]
     },
     "execution_count": 44,
     "metadata": {},
     "output_type": "execute_result"
    }
   ],
   "source": [
    "1//2"
   ]
  },
  {
   "cell_type": "code",
   "execution_count": 45,
   "id": "found-ready",
   "metadata": {},
   "outputs": [
    {
     "name": "stdout",
     "output_type": "stream",
     "text": [
      "Before: None\n",
      "Smallest: 3\n"
     ]
    }
   ],
   "source": [
    "smallest = None\n",
    "print(\"Before:\", smallest)\n",
    "for itervar in [3, 41, 12, 9, 74, 15]:\n",
    "    if smallest is None or itervar < smallest:\n",
    "        smallest = itervar\n",
    "        break\n",
    "    print(\"Loop:\", itervar, smallest)\n",
    "print(\"Smallest:\", smallest)"
   ]
  },
  {
   "cell_type": "code",
   "execution_count": 47,
   "id": "harmful-expert",
   "metadata": {},
   "outputs": [
    {
     "ename": "SyntaxError",
     "evalue": "can't assign to literal (<ipython-input-47-2290482474cf>, line 1)",
     "output_type": "error",
     "traceback": [
      "\u001b[0;36m  File \u001b[0;32m\"<ipython-input-47-2290482474cf>\"\u001b[0;36m, line \u001b[0;32m1\u001b[0m\n\u001b[0;31m    0 = 0.0\u001b[0m\n\u001b[0m           ^\u001b[0m\n\u001b[0;31mSyntaxError\u001b[0m\u001b[0;31m:\u001b[0m can't assign to literal\n"
     ]
    }
   ],
   "source": [
    "0 = 0.0"
   ]
  },
  {
   "cell_type": "code",
   "execution_count": 48,
   "id": "irish-yeast",
   "metadata": {},
   "outputs": [],
   "source": [
    "word = \"bananana\"\n",
    "\n",
    "i = word.find(\"na\")"
   ]
  },
  {
   "cell_type": "code",
   "execution_count": 50,
   "id": "confused-laugh",
   "metadata": {},
   "outputs": [
    {
     "name": "stdout",
     "output_type": "stream",
     "text": [
      "0\n"
     ]
    }
   ],
   "source": [
    "counts = { 'quincy' : 1 , 'mrugesh' : 42, 'beau': 100, '0': 10}\n",
    "print(counts.get('kris', 0))"
   ]
  },
  {
   "cell_type": "code",
   "execution_count": 54,
   "id": "empirical-crest",
   "metadata": {},
   "outputs": [
    {
     "name": "stdout",
     "output_type": "stream",
     "text": [
      "HTTP/1.1 200 OK\r\n",
      "Date: Wed, 30 Jun 2021 20:40:44 GMT\r\n",
      "Server: Apache/2.4.18 (Ubuntu)\r\n",
      "Last-Modified: Sat, 13 May 2017 11:22:22 GMT\r\n",
      "ETag: \"a7-54f6609245537\"\r\n",
      "Accept-Ranges: bytes\r\n",
      "Content-Length: 167\r\n",
      "Cache-Control: max-age=0, no-cache, no-store, must-revalidate\r\n",
      "Pragma: no-cache\r\n",
      "Expires: Wed, 11 Jan 1984 05:00:00 GMT\r\n",
      "Connection: close\r\n",
      "Content-Type: text/plain\r\n",
      "\r\n",
      "But soft what light through yonder window breaks\n",
      "It is the east and Juliet is the sun\n",
      "Arise fair sun and kill the envious moon\n",
      "Who is already s\n",
      "ick and pale with grief\n",
      "\n"
     ]
    }
   ],
   "source": [
    "import socket \n",
    "mysocket = socket.socket(socket.AF_INET, socket.SOCK_STREAM)\n",
    "mysocket.connect(('data.pr4e.org', 80))\n",
    "cmd = 'GET http://data.pr4e.org/romeo.txt HTTP/1.0\\r\\n\\r\\n'.encode()\n",
    "mysocket.send(cmd)\n",
    "\n",
    "while True:\n",
    "    data = mysocket.recv(512)\n",
    "    if (len(data) < 1):\n",
    "        break\n",
    "    print(data.decode())\n",
    "mysocket.close()"
   ]
  },
  {
   "cell_type": "code",
   "execution_count": 57,
   "id": "combined-enlargement",
   "metadata": {},
   "outputs": [
    {
     "name": "stdout",
     "output_type": "stream",
     "text": [
      "Quincy constructed\n",
      "Miya constructed\n"
     ]
    },
    {
     "data": {
      "text/plain": [
       "'q.party()\\nm.party()\\nq.party()'"
      ]
     },
     "execution_count": 57,
     "metadata": {},
     "output_type": "execute_result"
    }
   ],
   "source": [
    "class PartyAnimal:\n",
    "    x = 0\n",
    "    name = ''\n",
    "    def __init__(self, nam):\n",
    "        self.name = nam\n",
    "        print(self.name,'constructed')\n",
    "    def party(self):\n",
    "        self.x = self.x + 1\n",
    "        print(self.name,'party count',self.x)\n",
    "\n",
    "q = PartyAnimal('Quincy')\n",
    "m = PartyAnimal('Miya')\n",
    "\n",
    "\"\"\"q.party()\n",
    "m.party()\n",
    "q.party()\"\"\""
   ]
  },
  {
   "cell_type": "code",
   "execution_count": 58,
   "id": "ambient-evidence",
   "metadata": {},
   "outputs": [
    {
     "ename": "ModuleNotFoundError",
     "evalue": "No module named 'arithmetic_arranger'",
     "output_type": "error",
     "traceback": [
      "\u001b[0;31m---------------------------------------------------------------------------\u001b[0m",
      "\u001b[0;31mModuleNotFoundError\u001b[0m                       Traceback (most recent call last)",
      "\u001b[0;32m<ipython-input-58-326103724e17>\u001b[0m in \u001b[0;36m<module>\u001b[0;34m\u001b[0m\n\u001b[0;32m----> 1\u001b[0;31m \u001b[0;32mfrom\u001b[0m \u001b[0marithmetic_arranger\u001b[0m \u001b[0;32mimport\u001b[0m \u001b[0marithmetic_arranger\u001b[0m\u001b[0;34m\u001b[0m\u001b[0;34m\u001b[0m\u001b[0m\n\u001b[0m",
      "\u001b[0;31mModuleNotFoundError\u001b[0m: No module named 'arithmetic_arranger'"
     ]
    }
   ],
   "source": [
    "from arithmetic_arranger import arithmetic_arranger"
   ]
  },
  {
   "cell_type": "code",
   "execution_count": 66,
   "id": "informal-print",
   "metadata": {},
   "outputs": [
    {
     "name": "stdout",
     "output_type": "stream",
     "text": [
      "32\n",
      "+ int(A[1])\n",
      "------\n"
     ]
    }
   ],
   "source": [
    "a = \"32 + 698\"\n",
    "A = a.split('+')\n",
    "#if \n",
    "print(int(A[0]), '+ int(A[1])', '------', sep='\\n')"
   ]
  },
  {
   "cell_type": "code",
   "execution_count": 67,
   "id": "entire-teacher",
   "metadata": {},
   "outputs": [],
   "source": [
    "num1, operator, num2 = a.split(' ')\n"
   ]
  },
  {
   "cell_type": "code",
   "execution_count": 75,
   "id": "electoral-battery",
   "metadata": {},
   "outputs": [
    {
     "data": {
      "text/plain": [
       "'69832'"
      ]
     },
     "execution_count": 75,
     "metadata": {},
     "output_type": "execute_result"
    }
   ],
   "source": [
    "num2+num1"
   ]
  },
  {
   "cell_type": "code",
   "execution_count": 24,
   "id": "dangerous-patrol",
   "metadata": {},
   "outputs": [
    {
     "name": "stdout",
     "output_type": "stream",
     "text": [
      "32     3801    45    123    \n",
      "+ 698    -   2    + 43    + 49    \n",
      "-----    ------    ----    -----    \n"
     ]
    }
   ],
   "source": [
    "def arithmetic_arranger(problems, s='True'):\n",
    "    l1, l2 , l3, l4 = '', '', '', ''\n",
    "    \n",
    "    if (len(problems) >= 6):\n",
    "        return 'Error: Too many problems.'\n",
    "    for item in problems:\n",
    "        num1, operator, num2 = item.split(' ')\n",
    "        \n",
    "        # check the validity of the operator\n",
    "        if not ( (operator == '+') or (operator == '-') ):\n",
    "            return 'Error: Operator must be '+' or '-'.'\n",
    "        \n",
    "        # Check the validity of the numberes \n",
    "        if (len(num1) > 4) or len(num2) > 4:\n",
    "            return 'Error: Numbers cannot be more than four digits.'\n",
    "        if not (num1.isnumeric() or num2.isnumeric()):\n",
    "            return 'Error: Numbers must only contain digits.'\n",
    "        max_len = max(len(num1), len(num2)) + 2 # 2 is for '+, -' and space\n",
    "        space = '    ' # space between arrangements \n",
    "        l1 += str(num1).rjust((len(num2) - len(num1)) + 2, ' ') + space\n",
    "        l2 += operator + ' ' + str(num2).rjust((len(num1) - len(num2)),' ') + space\n",
    "        l3 += str('-')*max_len + space\n",
    "        if operator == '+':\n",
    "            total =  int(num1) + int(num2)\n",
    "        elif operator == '-':\n",
    "            total = int(num1) - int(num2)\n",
    "        l4 += str(total).rjust(max_len) + space\n",
    "        \n",
    "    if s == True:\n",
    "        print(l1, l2, l3, l4, sep='\\n')\n",
    "    else:\n",
    "        print(l1, l2, l3, sep='\\n')\n",
    "   # print(arranged_problems, end=' ')\n",
    "\n",
    "\n",
    "\n",
    "\n",
    "  #return arranged_problems\n",
    "\n",
    "arithmetic_arranger([\"32 + 698\", \"3801 - 2\", \"45 + 43\", \"123 + 49\"])"
   ]
  },
  {
   "cell_type": "code",
   "execution_count": 6,
   "id": "coordinate-borough",
   "metadata": {},
   "outputs": [
    {
     "name": "stdout",
     "output_type": "stream",
     "text": [
      "banana is my favorite fruit.\n",
      "banana is my favorite fruit.\n"
     ]
    }
   ],
   "source": [
    "txt = \"banana\"\n",
    "\n",
    "x = txt.rjust(1)\n",
    "x1 = txt.rjust(3)\n",
    "\n",
    "print(x, \"is my favorite fruit.\")\n",
    "print(x1, \"is my favorite fruit.\")\n"
   ]
  },
  {
   "cell_type": "code",
   "execution_count": 123,
   "id": "minor-convenience",
   "metadata": {},
   "outputs": [
    {
     "name": "stdout",
     "output_type": "stream",
     "text": [
      "32\n",
      "698\n"
     ]
    }
   ],
   "source": [
    "print(str(nm1).rjust(1), str(nm2).rjust(-1), sep='\\n')"
   ]
  },
  {
   "cell_type": "code",
   "execution_count": 6,
   "id": "royal-single",
   "metadata": {},
   "outputs": [
    {
     "name": "stdout",
     "output_type": "stream",
     "text": [
      "1\n"
     ]
    }
   ],
   "source": [
    "n1 = ''\n",
    "for i in range(2):\n",
    "    n1 = str(i)\n",
    "print(n1)"
   ]
  },
  {
   "cell_type": "code",
   "execution_count": 32,
   "id": "circular-purse",
   "metadata": {},
   "outputs": [
    {
     "data": {
      "text/plain": [
       "False"
      ]
     },
     "execution_count": 32,
     "metadata": {},
     "output_type": "execute_result"
    }
   ],
   "source": [
    "1800 % 100 != 0 "
   ]
  },
  {
   "cell_type": "code",
   "execution_count": null,
   "id": "african-flooring",
   "metadata": {},
   "outputs": [],
   "source": []
  }
 ],
 "metadata": {
  "kernelspec": {
   "display_name": "Python 3",
   "language": "python",
   "name": "python3"
  },
  "language_info": {
   "codemirror_mode": {
    "name": "ipython",
    "version": 3
   },
   "file_extension": ".py",
   "mimetype": "text/x-python",
   "name": "python",
   "nbconvert_exporter": "python",
   "pygments_lexer": "ipython3",
   "version": "3.6.9"
  }
 },
 "nbformat": 4,
 "nbformat_minor": 5
}
